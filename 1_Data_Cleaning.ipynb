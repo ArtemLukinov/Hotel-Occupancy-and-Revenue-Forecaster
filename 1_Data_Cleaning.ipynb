{
 "cells": [
  {
   "cell_type": "markdown",
   "id": "saving-benefit",
   "metadata": {},
   "source": [
    "# Data Import and Cleaning"
   ]
  },
  {
   "cell_type": "markdown",
   "id": "painted-lebanon",
   "metadata": {},
   "source": [
    "### Import Libaries"
   ]
  },
  {
   "cell_type": "code",
   "execution_count": null,
   "id": "blocked-cross",
   "metadata": {
    "colab": {
     "base_uri": "https://localhost:8080/"
    },
    "id": "blocked-cross",
    "outputId": "5ff10550-16af-4eb9-89c5-1076d78046d6"
   },
   "outputs": [
    {
     "name": "stderr",
     "output_type": "stream",
     "text": [
      "/usr/local/lib/python3.7/dist-packages/statsmodels/tools/_testing.py:19: FutureWarning: pandas.util.testing is deprecated. Use the functions in the public API at pandas.testing instead.\n",
      "  import pandas.util.testing as tm\n"
     ]
    }
   ],
   "source": [
    "import matplotlib.pyplot as plt\n",
    "import numpy as np\n",
    "import pandas as pd\n",
    "import seaborn as sns\n",
    "import datetime as dt\n",
    "from datetime import datetime\n",
    "from statsmodels.graphics.tsaplots import plot_acf\n",
    "from statsmodels.graphics.tsaplots import plot_pacf\n",
    "from google.colab import files\n",
    "from google.colab import drive\n",
    "# drive.mount('/content/drive')\n",
    "\n",
    "%matplotlib inline"
   ]
  },
  {
   "cell_type": "code",
   "execution_count": null,
   "id": "exclusive-rings",
   "metadata": {
    "id": "exclusive-rings"
   },
   "outputs": [],
   "source": [
    "df2016 = pd.read_csv(\"../content/drive/My Drive/Capstone/data/res_statistics2016.txt\", sep='\\t')\n",
    "df2017 = pd.read_csv(\"../content/drive/My Drive/Capstone/data/res_statistics2017.txt\", sep='\\t')\n",
    "df2018 = pd.read_csv(\"../content/drive/My Drive/Capstone/data/res_statistics2018.txt\", sep='\\t')\n",
    "df2019 = pd.read_csv(\"../content/drive/My Drive/Capstone/data/res_statistics2019.txt\", sep='\\t')\n",
    "df2020 = pd.read_csv(\"../content/drive/My Drive/Capstone/data/res_statistics2020.txt\", sep='\\t')"
   ]
  },
  {
   "cell_type": "markdown",
   "id": "HNnJWTXUwdYI",
   "metadata": {
    "id": "HNnJWTXUwdYI"
   },
   "source": [
    "Concatinating all years into one dataframe:"
   ]
  },
  {
   "cell_type": "code",
   "execution_count": null,
   "id": "parliamentary-oriental",
   "metadata": {
    "id": "parliamentary-oriental"
   },
   "outputs": [],
   "source": [
    "df = pd.concat([df2016, df2017, df2018, df2019, df2020])"
   ]
  },
  {
   "cell_type": "markdown",
   "id": "SWfmaCx5wqKP",
   "metadata": {
    "id": "SWfmaCx5wqKP"
   },
   "source": [
    "Let's clear all rows with erroneous entries via their indicies:"
   ]
  },
  {
   "cell_type": "code",
   "execution_count": null,
   "id": "verified-poker",
   "metadata": {
    "colab": {
     "base_uri": "https://localhost:8080/"
    },
    "id": "verified-poker",
    "outputId": "d5777b87-c392-40d1-b984-f4f139bf3402"
   },
   "outputs": [
    {
     "data": {
      "text/plain": [
       "array(['Hotel1', 'S_DEF_ROOM_REPORT', '20069', '38247', '37921', '36905',\n",
       "       '10423'], dtype=object)"
      ]
     },
     "execution_count": 4,
     "metadata": {
      "tags": []
     },
     "output_type": "execute_result"
    }
   ],
   "source": [
    "df['RESORT'].unique()"
   ]
  },
  {
   "cell_type": "code",
   "execution_count": null,
   "id": "driving-integration",
   "metadata": {
    "id": "driving-integration"
   },
   "outputs": [],
   "source": [
    "df = df.drop(df.loc[df['RESORT']=='S_DEF_ROOM_REPORT'].index)"
   ]
  },
  {
   "cell_type": "code",
   "execution_count": null,
   "id": "removable-jumping",
   "metadata": {
    "id": "removable-jumping"
   },
   "outputs": [],
   "source": [
    "df = df.drop(df.loc[df['RESORT']=='20069'].index)"
   ]
  },
  {
   "cell_type": "code",
   "execution_count": null,
   "id": "extra-calendar",
   "metadata": {
    "id": "extra-calendar"
   },
   "outputs": [],
   "source": [
    "df = df.drop(df.loc[df['RESORT']=='38247'].index)"
   ]
  },
  {
   "cell_type": "code",
   "execution_count": null,
   "id": "horizontal-lightning",
   "metadata": {
    "id": "horizontal-lightning"
   },
   "outputs": [],
   "source": [
    "df = df.drop(df.loc[df['RESORT']=='37921'].index)"
   ]
  },
  {
   "cell_type": "code",
   "execution_count": null,
   "id": "nearby-huntington",
   "metadata": {
    "id": "nearby-huntington"
   },
   "outputs": [],
   "source": [
    "df = df.drop(df.loc[df['RESORT']=='36905'].index)"
   ]
  },
  {
   "cell_type": "code",
   "execution_count": null,
   "id": "mounted-electronics",
   "metadata": {
    "id": "mounted-electronics"
   },
   "outputs": [],
   "source": [
    "df = df.drop(df.loc[df['RESORT']=='10423'].index)"
   ]
  },
  {
   "cell_type": "code",
   "execution_count": null,
   "id": "resistant-target",
   "metadata": {
    "id": "resistant-target"
   },
   "outputs": [],
   "source": [
    "df['BUSINESS_DATE'] = pd.to_datetime(df['BUSINESS_DATE'], format='%d-%b-%y')"
   ]
  },
  {
   "cell_type": "code",
   "execution_count": null,
   "id": "beneficial-intranet",
   "metadata": {
    "id": "beneficial-intranet"
   },
   "outputs": [],
   "source": [
    "df['CHAR_BUSINESS_DATE'] = pd.to_datetime(df['CHAR_BUSINESS_DATE'], format='%m/%d/%y')"
   ]
  },
  {
   "cell_type": "markdown",
   "id": "ldmpfw8Hw7uW",
   "metadata": {
    "id": "ldmpfw8Hw7uW"
   },
   "source": [
    "Converting some numbers stored as objects to floats:"
   ]
  },
  {
   "cell_type": "code",
   "execution_count": null,
   "id": "knowing-collectible",
   "metadata": {
    "id": "knowing-collectible"
   },
   "outputs": [],
   "source": [
    "to_float = ['S_REV_MKT', 'S_DEF_ROOMS_MKT',\n",
    "    'S_FB_REV_MKT', 'S_MISC_REV_MKT', 'MKT_RESORT_ROOM', 'GUEST_MKT',\n",
    "    'TOT_ARR_MKT']\n",
    "df[to_float] = df[to_float].astype(float)"
   ]
  },
  {
   "cell_type": "markdown",
   "id": "mw_A3smjxDOw",
   "metadata": {
    "id": "mw_A3smjxDOw"
   },
   "source": [
    "Formula to retrieve duplicate columns:"
   ]
  },
  {
   "cell_type": "code",
   "execution_count": null,
   "id": "stunning-delay",
   "metadata": {
    "id": "stunning-delay"
   },
   "outputs": [],
   "source": [
    "# from https://www.geeksforgeeks.org/how-to-find-drop-duplicate-columns-in-a-pandas-dataframe/\n",
    "def getDuplicateColumns(df):\n",
    "\n",
    "    duplicateColumnNames = set()\n",
    "    for x in range(df.shape[1]):\n",
    "        col = df.iloc[:, x]\n",
    "\n",
    "        for y in range(x + 1, df.shape[1]):\n",
    "            otherCol = df.iloc[:, y]\n",
    "            if col.equals(otherCol):\n",
    "                duplicateColumnNames.add(df.columns.values[y])\n",
    "\n",
    "    return list(duplicateColumnNames)"
   ]
  },
  {
   "cell_type": "code",
   "execution_count": null,
   "id": "naval-think",
   "metadata": {
    "colab": {
     "base_uri": "https://localhost:8080/"
    },
    "id": "naval-think",
    "outputId": "09c95d55-88cd-47f5-efa9-3b32803583ca"
   },
   "outputs": [
    {
     "data": {
      "text/plain": [
       "['ARRIVAL_MKT',\n",
       " 'RESORT_ROOM',\n",
       " 'CHAR_BUSINESS_DATE',\n",
       " 'CF_MASTER_SEQ',\n",
       " 'ARR_TODAY',\n",
       " 'GROUP_NAME']"
      ]
     },
     "execution_count": 15,
     "metadata": {
      "tags": []
     },
     "output_type": "execute_result"
    }
   ],
   "source": [
    "getDuplicateColumns(df)"
   ]
  },
  {
   "cell_type": "markdown",
   "id": "f-kB08FjxRQI",
   "metadata": {
    "id": "f-kB08FjxRQI"
   },
   "source": [
    "Identifying columns with all zero values:"
   ]
  },
  {
   "cell_type": "code",
   "execution_count": null,
   "id": "signed-secondary",
   "metadata": {
    "colab": {
     "base_uri": "https://localhost:8080/"
    },
    "id": "signed-secondary",
    "outputId": "a1eacecf-5828-4256-8077-ce21e7be3d90"
   },
   "outputs": [
    {
     "data": {
      "text/plain": [
       "RESORT                False\n",
       "BUSINESS_DATE         False\n",
       "CHAR_BUSINESS_DATE    False\n",
       "MARKET_CODE           False\n",
       "CF_MASTER_SEQ         False\n",
       "GROUP_NAME            False\n",
       "S_REV_MKT             False\n",
       "S_DEF_ROOMS_MKT       False\n",
       "S_FB_REV_MKT          False\n",
       "S_MISC_REV_MKT        False\n",
       "MKT_RESORT_ROOM       False\n",
       "GUEST_MKT             False\n",
       "TOT_ARR_MKT           False\n",
       "PER_OCC_MKT           False\n",
       "PER_DOUBLE_MKT        False\n",
       "DOUBLE_OCC_MKT        False\n",
       "SINGLE_OCC_MKT        False\n",
       "GUEST_DAY             False\n",
       "ARRIVAL_DAY            True\n",
       "ARRIVAL_MKT            True\n",
       "TOT_ARR_DAY           False\n",
       "PER_OCC_DAY           False\n",
       "PER_DOUBLE_OCC_DAY    False\n",
       "SINGLE_OCC_DAY        False\n",
       "S_MISC_REV_DAY        False\n",
       "DAY_RESORT_ROOM       False\n",
       "S_FB_REV_DAY          False\n",
       "DOUBLE_OCC_DAY        False\n",
       "S_REV_DAY             False\n",
       "S_DEF_ROOMS_DAY       False\n",
       "ARR_TODAY              True\n",
       "NO_DEFINITE_ROOMS     False\n",
       "IN_GUEST              False\n",
       "OCC_SINGLE            False\n",
       "DOUBLE_OCC            False\n",
       "REVENUE               False\n",
       "FB_REV                False\n",
       "OTHER_REV             False\n",
       "TOTAL_REVENUE         False\n",
       "RESORT_ROOM           False\n",
       "PER_OCC               False\n",
       "GET_ARR               False\n",
       "MULTI_OCC_PER         False\n",
       "dtype: bool"
      ]
     },
     "execution_count": 16,
     "metadata": {
      "tags": []
     },
     "output_type": "execute_result"
    }
   ],
   "source": [
    "(df == 0).all()"
   ]
  },
  {
   "cell_type": "markdown",
   "id": "rBbpL22RxWOp",
   "metadata": {
    "id": "rBbpL22RxWOp"
   },
   "source": [
    "Dropping all columns from the 3 steps above:"
   ]
  },
  {
   "cell_type": "code",
   "execution_count": null,
   "id": "medium-pavilion",
   "metadata": {
    "id": "medium-pavilion"
   },
   "outputs": [],
   "source": [
    "df = df.drop(columns=['RESORT', 'ARRIVAL_DAY', 'CHAR_BUSINESS_DATE',\n",
    "                      'ARRIVAL_MKT',\n",
    "                      'CF_MASTER_SEQ',\n",
    "                      'ARR_TODAY',\n",
    "                      'RESORT_ROOM',\n",
    "                      'GROUP_NAME'], axis=1)"
   ]
  },
  {
   "cell_type": "code",
   "execution_count": null,
   "id": "breeding-order",
   "metadata": {
    "colab": {
     "base_uri": "https://localhost:8080/"
    },
    "id": "breeding-order",
    "outputId": "095485f4-6af8-41c2-efc2-9359af3bd1d3"
   },
   "outputs": [
    {
     "data": {
      "text/plain": [
       "(23004, 35)"
      ]
     },
     "execution_count": 18,
     "metadata": {
      "tags": []
     },
     "output_type": "execute_result"
    }
   ],
   "source": [
    "df.shape # came down from 43 to 35 columns"
   ]
  },
  {
   "cell_type": "code",
   "execution_count": null,
   "id": "raising-prophet",
   "metadata": {
    "colab": {
     "base_uri": "https://localhost:8080/",
     "height": 131
    },
    "id": "raising-prophet",
    "outputId": "66c24f65-cb7f-45a3-913b-c2f9b41df02a"
   },
   "outputs": [
    {
     "data": {
      "text/html": [
       "<div>\n",
       "<style scoped>\n",
       "    .dataframe tbody tr th:only-of-type {\n",
       "        vertical-align: middle;\n",
       "    }\n",
       "\n",
       "    .dataframe tbody tr th {\n",
       "        vertical-align: top;\n",
       "    }\n",
       "\n",
       "    .dataframe thead th {\n",
       "        text-align: right;\n",
       "    }\n",
       "</style>\n",
       "<table border=\"1\" class=\"dataframe\">\n",
       "  <thead>\n",
       "    <tr style=\"text-align: right;\">\n",
       "      <th></th>\n",
       "      <th>BUSINESS_DATE</th>\n",
       "      <th>MARKET_CODE</th>\n",
       "      <th>S_REV_MKT</th>\n",
       "      <th>S_DEF_ROOMS_MKT</th>\n",
       "      <th>S_FB_REV_MKT</th>\n",
       "      <th>S_MISC_REV_MKT</th>\n",
       "      <th>MKT_RESORT_ROOM</th>\n",
       "      <th>GUEST_MKT</th>\n",
       "      <th>TOT_ARR_MKT</th>\n",
       "      <th>PER_OCC_MKT</th>\n",
       "      <th>PER_DOUBLE_MKT</th>\n",
       "      <th>DOUBLE_OCC_MKT</th>\n",
       "      <th>SINGLE_OCC_MKT</th>\n",
       "      <th>GUEST_DAY</th>\n",
       "      <th>TOT_ARR_DAY</th>\n",
       "      <th>PER_OCC_DAY</th>\n",
       "      <th>PER_DOUBLE_OCC_DAY</th>\n",
       "      <th>SINGLE_OCC_DAY</th>\n",
       "      <th>S_MISC_REV_DAY</th>\n",
       "      <th>DAY_RESORT_ROOM</th>\n",
       "      <th>S_FB_REV_DAY</th>\n",
       "      <th>DOUBLE_OCC_DAY</th>\n",
       "      <th>S_REV_DAY</th>\n",
       "      <th>S_DEF_ROOMS_DAY</th>\n",
       "      <th>NO_DEFINITE_ROOMS</th>\n",
       "      <th>IN_GUEST</th>\n",
       "      <th>OCC_SINGLE</th>\n",
       "      <th>DOUBLE_OCC</th>\n",
       "      <th>REVENUE</th>\n",
       "      <th>FB_REV</th>\n",
       "      <th>OTHER_REV</th>\n",
       "      <th>TOTAL_REVENUE</th>\n",
       "      <th>PER_OCC</th>\n",
       "      <th>GET_ARR</th>\n",
       "      <th>MULTI_OCC_PER</th>\n",
       "    </tr>\n",
       "  </thead>\n",
       "  <tbody>\n",
       "    <tr>\n",
       "      <th>4390</th>\n",
       "      <td>2020-12-31</td>\n",
       "      <td>RETAIL</td>\n",
       "      <td>783339.36</td>\n",
       "      <td>3912.0</td>\n",
       "      <td>750.0</td>\n",
       "      <td>235618.06</td>\n",
       "      <td>42456.0</td>\n",
       "      <td>5879.0</td>\n",
       "      <td>200.240123</td>\n",
       "      <td>9.214245</td>\n",
       "      <td>4.159601</td>\n",
       "      <td>1766.0</td>\n",
       "      <td>2146.0</td>\n",
       "      <td>43.0</td>\n",
       "      <td>131.277857</td>\n",
       "      <td>24.137931</td>\n",
       "      <td>12.931035</td>\n",
       "      <td>13.0</td>\n",
       "      <td>1341.2</td>\n",
       "      <td>116.0</td>\n",
       "      <td>0.0</td>\n",
       "      <td>15.0</td>\n",
       "      <td>3675.78</td>\n",
       "      <td>28.0</td>\n",
       "      <td>12.0</td>\n",
       "      <td>21.0</td>\n",
       "      <td>4.0</td>\n",
       "      <td>8.0</td>\n",
       "      <td>1874.46</td>\n",
       "      <td>0.0</td>\n",
       "      <td>607.98</td>\n",
       "      <td>2482.44</td>\n",
       "      <td>10.344828</td>\n",
       "      <td>156.205</td>\n",
       "      <td>6.896552</td>\n",
       "    </tr>\n",
       "    <tr>\n",
       "      <th>4391</th>\n",
       "      <td>2020-12-31</td>\n",
       "      <td>WHOL</td>\n",
       "      <td>4355.45</td>\n",
       "      <td>26.0</td>\n",
       "      <td>0.0</td>\n",
       "      <td>1049.34</td>\n",
       "      <td>42456.0</td>\n",
       "      <td>37.0</td>\n",
       "      <td>167.517308</td>\n",
       "      <td>0.061240</td>\n",
       "      <td>0.025909</td>\n",
       "      <td>11.0</td>\n",
       "      <td>15.0</td>\n",
       "      <td>43.0</td>\n",
       "      <td>131.277857</td>\n",
       "      <td>24.137931</td>\n",
       "      <td>12.931035</td>\n",
       "      <td>13.0</td>\n",
       "      <td>1341.2</td>\n",
       "      <td>116.0</td>\n",
       "      <td>0.0</td>\n",
       "      <td>15.0</td>\n",
       "      <td>3675.78</td>\n",
       "      <td>28.0</td>\n",
       "      <td>0.0</td>\n",
       "      <td>0.0</td>\n",
       "      <td>0.0</td>\n",
       "      <td>0.0</td>\n",
       "      <td>0.00</td>\n",
       "      <td>0.0</td>\n",
       "      <td>0.00</td>\n",
       "      <td>0.00</td>\n",
       "      <td>0.000000</td>\n",
       "      <td>0.000</td>\n",
       "      <td>0.000000</td>\n",
       "    </tr>\n",
       "  </tbody>\n",
       "</table>\n",
       "</div>"
      ],
      "text/plain": [
       "     BUSINESS_DATE MARKET_CODE  S_REV_MKT  S_DEF_ROOMS_MKT  S_FB_REV_MKT  \\\n",
       "4390    2020-12-31      RETAIL  783339.36           3912.0         750.0   \n",
       "4391    2020-12-31        WHOL    4355.45             26.0           0.0   \n",
       "\n",
       "      S_MISC_REV_MKT  MKT_RESORT_ROOM  GUEST_MKT  TOT_ARR_MKT  PER_OCC_MKT  \\\n",
       "4390       235618.06          42456.0     5879.0   200.240123     9.214245   \n",
       "4391         1049.34          42456.0       37.0   167.517308     0.061240   \n",
       "\n",
       "      PER_DOUBLE_MKT  DOUBLE_OCC_MKT  SINGLE_OCC_MKT  GUEST_DAY  TOT_ARR_DAY  \\\n",
       "4390        4.159601          1766.0          2146.0       43.0   131.277857   \n",
       "4391        0.025909            11.0            15.0       43.0   131.277857   \n",
       "\n",
       "      PER_OCC_DAY  PER_DOUBLE_OCC_DAY  SINGLE_OCC_DAY  S_MISC_REV_DAY  \\\n",
       "4390    24.137931           12.931035            13.0          1341.2   \n",
       "4391    24.137931           12.931035            13.0          1341.2   \n",
       "\n",
       "      DAY_RESORT_ROOM  S_FB_REV_DAY  DOUBLE_OCC_DAY  S_REV_DAY  \\\n",
       "4390            116.0           0.0            15.0    3675.78   \n",
       "4391            116.0           0.0            15.0    3675.78   \n",
       "\n",
       "      S_DEF_ROOMS_DAY  NO_DEFINITE_ROOMS  IN_GUEST  OCC_SINGLE  DOUBLE_OCC  \\\n",
       "4390             28.0               12.0      21.0         4.0         8.0   \n",
       "4391             28.0                0.0       0.0         0.0         0.0   \n",
       "\n",
       "      REVENUE  FB_REV  OTHER_REV  TOTAL_REVENUE    PER_OCC  GET_ARR  \\\n",
       "4390  1874.46     0.0     607.98        2482.44  10.344828  156.205   \n",
       "4391     0.00     0.0       0.00           0.00   0.000000    0.000   \n",
       "\n",
       "      MULTI_OCC_PER  \n",
       "4390       6.896552  \n",
       "4391       0.000000  "
      ]
     },
     "execution_count": 19,
     "metadata": {
      "tags": []
     },
     "output_type": "execute_result"
    }
   ],
   "source": [
    "# disabling max columns to show in head() to review all columns\n",
    "pd.options.display.max_columns = None\n",
    "df.tail(2) # reviewing all columns"
   ]
  },
  {
   "cell_type": "markdown",
   "id": "uiBB7gpTxfgQ",
   "metadata": {
    "id": "uiBB7gpTxfgQ"
   },
   "source": [
    "Renaming columns to lowercase per pythonic conventions"
   ]
  },
  {
   "cell_type": "code",
   "execution_count": null,
   "id": "dAOxcDcyUUsz",
   "metadata": {
    "id": "dAOxcDcyUUsz"
   },
   "outputs": [],
   "source": [
    "df.columns = [_.lower() for _ in df.columns]"
   ]
  },
  {
   "cell_type": "markdown",
   "id": "9-zjAF7SxoOu",
   "metadata": {
    "id": "9-zjAF7SxoOu"
   },
   "source": [
    "Based on domaain knowledege, some market segments are not utilized. Let's identify those and remove all rows with them. This will also help trim down the features once this column gets dummified."
   ]
  },
  {
   "cell_type": "code",
   "execution_count": null,
   "id": "_yO-QAh7U5oI",
   "metadata": {
    "colab": {
     "base_uri": "https://localhost:8080/"
    },
    "id": "_yO-QAh7U5oI",
    "outputId": "45a3926d-8e74-4b5f-f8f9-6265a7220d64"
   },
   "outputs": [
    {
     "data": {
      "text/plain": [
       "array(['AR', 'COMP', 'CONT', 'DISC', 'GASSOC', 'GCOR', 'GSMERF', 'HOUSE',\n",
       "       'NEG', 'PSBY', 'QUAL', 'RETAIL', 'WHOL', 'GWHOL'], dtype=object)"
      ]
     },
     "execution_count": 21,
     "metadata": {
      "tags": []
     },
     "output_type": "execute_result"
    }
   ],
   "source": [
    "df.market_code.unique()"
   ]
  },
  {
   "cell_type": "code",
   "execution_count": null,
   "id": "u4tu2353jrmU",
   "metadata": {
    "colab": {
     "base_uri": "https://localhost:8080/",
     "height": 71
    },
    "id": "u4tu2353jrmU",
    "outputId": "7c660cae-8f2c-4835-b27a-159d176a16fa"
   },
   "outputs": [
    {
     "data": {
      "application/vnd.google.colaboratory.intrinsic+json": {
       "type": "string"
      },
      "text/plain": [
       "'\\nAR = Accounts Receivable\\nCOMP = Complimentary\\nCONT = Contract\\nDISC = Discounts\\nGASSOC = Group - Association\\nGCOR = Group - Corporate\\nGSMERF = Group - SMERF\\nHOUSE = House Use\\nNEG = Negotiated\\nPSBY = Passerby\\nQUAL = Qualified Discount\\nRETAIL = Retail/BAR\\nWHOL = Wholesale\\nGWHOL = Group - Wholesale\\n'"
      ]
     },
     "execution_count": 22,
     "metadata": {
      "tags": []
     },
     "output_type": "execute_result"
    }
   ],
   "source": [
    "'''\n",
    "AR = Accounts Receivable\n",
    "COMP = Complimentary\n",
    "CONT = Contract\n",
    "DISC = Discounts\n",
    "GASSOC = Group - Association\n",
    "GCOR = Group - Corporate\n",
    "GSMERF = Group - SMERF\n",
    "HOUSE = House Use\n",
    "NEG = Negotiated\n",
    "PSBY = Passerby\n",
    "QUAL = Qualified Discount\n",
    "RETAIL = Retail/BAR\n",
    "WHOL = Wholesale\n",
    "GWHOL = Group - Wholesale\n",
    "'''"
   ]
  },
  {
   "cell_type": "markdown",
   "id": "Zs2oIusB74EN",
   "metadata": {
    "id": "Zs2oIusB74EN"
   },
   "source": [
    "Let's check if there are columns with zero or close to zero values: "
   ]
  },
  {
   "cell_type": "code",
   "execution_count": null,
   "id": "O5nP9gH3pB-G",
   "metadata": {
    "colab": {
     "base_uri": "https://localhost:8080/",
     "height": 514
    },
    "id": "O5nP9gH3pB-G",
    "outputId": "e39e8f98-df9e-4469-e0b0-528dc15a04a8"
   },
   "outputs": [
    {
     "data": {
      "text/html": [
       "<div>\n",
       "<style scoped>\n",
       "    .dataframe tbody tr th:only-of-type {\n",
       "        vertical-align: middle;\n",
       "    }\n",
       "\n",
       "    .dataframe tbody tr th {\n",
       "        vertical-align: top;\n",
       "    }\n",
       "\n",
       "    .dataframe thead th {\n",
       "        text-align: right;\n",
       "    }\n",
       "</style>\n",
       "<table border=\"1\" class=\"dataframe\">\n",
       "  <thead>\n",
       "    <tr style=\"text-align: right;\">\n",
       "      <th></th>\n",
       "      <th>no_definite_rooms</th>\n",
       "      <th>revenue</th>\n",
       "    </tr>\n",
       "    <tr>\n",
       "      <th>market_code</th>\n",
       "      <th></th>\n",
       "      <th></th>\n",
       "    </tr>\n",
       "  </thead>\n",
       "  <tbody>\n",
       "    <tr>\n",
       "      <th>AR</th>\n",
       "      <td>0.0</td>\n",
       "      <td>551.47</td>\n",
       "    </tr>\n",
       "    <tr>\n",
       "      <th>COMP</th>\n",
       "      <td>1071.0</td>\n",
       "      <td>-55.96</td>\n",
       "    </tr>\n",
       "    <tr>\n",
       "      <th>CONT</th>\n",
       "      <td>4.0</td>\n",
       "      <td>747.04</td>\n",
       "    </tr>\n",
       "    <tr>\n",
       "      <th>DISC</th>\n",
       "      <td>36725.0</td>\n",
       "      <td>8710289.24</td>\n",
       "    </tr>\n",
       "    <tr>\n",
       "      <th>GASSOC</th>\n",
       "      <td>4848.0</td>\n",
       "      <td>1681113.21</td>\n",
       "    </tr>\n",
       "    <tr>\n",
       "      <th>GCOR</th>\n",
       "      <td>19397.0</td>\n",
       "      <td>7217624.67</td>\n",
       "    </tr>\n",
       "    <tr>\n",
       "      <th>GSMERF</th>\n",
       "      <td>745.0</td>\n",
       "      <td>197715.50</td>\n",
       "    </tr>\n",
       "    <tr>\n",
       "      <th>GWHOL</th>\n",
       "      <td>110.0</td>\n",
       "      <td>33280.00</td>\n",
       "    </tr>\n",
       "    <tr>\n",
       "      <th>HOUSE</th>\n",
       "      <td>121.0</td>\n",
       "      <td>-3848.84</td>\n",
       "    </tr>\n",
       "    <tr>\n",
       "      <th>NEG</th>\n",
       "      <td>36182.0</td>\n",
       "      <td>12203129.01</td>\n",
       "    </tr>\n",
       "    <tr>\n",
       "      <th>PSBY</th>\n",
       "      <td>0.0</td>\n",
       "      <td>0.00</td>\n",
       "    </tr>\n",
       "    <tr>\n",
       "      <th>QUAL</th>\n",
       "      <td>3168.0</td>\n",
       "      <td>846676.38</td>\n",
       "    </tr>\n",
       "    <tr>\n",
       "      <th>RETAIL</th>\n",
       "      <td>38793.0</td>\n",
       "      <td>11556517.82</td>\n",
       "    </tr>\n",
       "    <tr>\n",
       "      <th>WHOL</th>\n",
       "      <td>2310.0</td>\n",
       "      <td>520960.39</td>\n",
       "    </tr>\n",
       "  </tbody>\n",
       "</table>\n",
       "</div>"
      ],
      "text/plain": [
       "             no_definite_rooms      revenue\n",
       "market_code                                \n",
       "AR                         0.0       551.47\n",
       "COMP                    1071.0       -55.96\n",
       "CONT                       4.0       747.04\n",
       "DISC                   36725.0   8710289.24\n",
       "GASSOC                  4848.0   1681113.21\n",
       "GCOR                   19397.0   7217624.67\n",
       "GSMERF                   745.0    197715.50\n",
       "GWHOL                    110.0     33280.00\n",
       "HOUSE                    121.0     -3848.84\n",
       "NEG                    36182.0  12203129.01\n",
       "PSBY                       0.0         0.00\n",
       "QUAL                    3168.0    846676.38\n",
       "RETAIL                 38793.0  11556517.82\n",
       "WHOL                    2310.0    520960.39"
      ]
     },
     "execution_count": 23,
     "metadata": {
      "tags": []
     },
     "output_type": "execute_result"
    }
   ],
   "source": [
    "df[['no_definite_rooms','revenue']].groupby(df['market_code']).sum()"
   ]
  },
  {
   "cell_type": "markdown",
   "id": "aboriginal-philadelphia",
   "metadata": {},
   "source": [
    "\"AR\", \"CONT\" and \"PSBY\" can be dropped as they do not contain significant values and, as confirmed by domain experts, are not utilized anymore."
   ]
  },
  {
   "cell_type": "code",
   "execution_count": null,
   "id": "zfp2o_bTsdS0",
   "metadata": {
    "id": "zfp2o_bTsdS0"
   },
   "outputs": [],
   "source": [
    "index_names = df[ (df['market_code'] == 'AR') | (df['market_code'] == 'CONT') | (df['market_code'] == 'PSBY')].index"
   ]
  },
  {
   "cell_type": "code",
   "execution_count": null,
   "id": "w6eVXUD3ubqV",
   "metadata": {
    "id": "w6eVXUD3ubqV"
   },
   "outputs": [],
   "source": [
    "df = df.drop(index_names)"
   ]
  },
  {
   "cell_type": "markdown",
   "id": "mexican-colon",
   "metadata": {},
   "source": [
    "The subject hotel opened in July 2017, yet data was pulled form January 1, 2017. This data will need to be dropped as it will affect our models. "
   ]
  },
  {
   "cell_type": "code",
   "execution_count": null,
   "id": "v_40cm7M8BXL",
   "metadata": {
    "colab": {
     "base_uri": "https://localhost:8080/",
     "height": 224
    },
    "id": "v_40cm7M8BXL",
    "outputId": "61f71141-efcf-4411-cd59-6a3e44ad1c25"
   },
   "outputs": [
    {
     "data": {
      "text/html": [
       "<div>\n",
       "<style scoped>\n",
       "    .dataframe tbody tr th:only-of-type {\n",
       "        vertical-align: middle;\n",
       "    }\n",
       "\n",
       "    .dataframe tbody tr th {\n",
       "        vertical-align: top;\n",
       "    }\n",
       "\n",
       "    .dataframe thead th {\n",
       "        text-align: right;\n",
       "    }\n",
       "</style>\n",
       "<table border=\"1\" class=\"dataframe\">\n",
       "  <thead>\n",
       "    <tr style=\"text-align: right;\">\n",
       "      <th></th>\n",
       "      <th>business_date</th>\n",
       "      <th>market_code</th>\n",
       "      <th>s_rev_mkt</th>\n",
       "      <th>s_def_rooms_mkt</th>\n",
       "      <th>s_fb_rev_mkt</th>\n",
       "      <th>s_misc_rev_mkt</th>\n",
       "      <th>mkt_resort_room</th>\n",
       "      <th>guest_mkt</th>\n",
       "      <th>tot_arr_mkt</th>\n",
       "      <th>per_occ_mkt</th>\n",
       "      <th>per_double_mkt</th>\n",
       "      <th>double_occ_mkt</th>\n",
       "      <th>single_occ_mkt</th>\n",
       "      <th>guest_day</th>\n",
       "      <th>tot_arr_day</th>\n",
       "      <th>per_occ_day</th>\n",
       "      <th>per_double_occ_day</th>\n",
       "      <th>single_occ_day</th>\n",
       "      <th>s_misc_rev_day</th>\n",
       "      <th>day_resort_room</th>\n",
       "      <th>s_fb_rev_day</th>\n",
       "      <th>double_occ_day</th>\n",
       "      <th>s_rev_day</th>\n",
       "      <th>s_def_rooms_day</th>\n",
       "      <th>no_definite_rooms</th>\n",
       "      <th>in_guest</th>\n",
       "      <th>occ_single</th>\n",
       "      <th>double_occ</th>\n",
       "      <th>revenue</th>\n",
       "      <th>fb_rev</th>\n",
       "      <th>other_rev</th>\n",
       "      <th>total_revenue</th>\n",
       "      <th>per_occ</th>\n",
       "      <th>get_arr</th>\n",
       "      <th>multi_occ_per</th>\n",
       "    </tr>\n",
       "  </thead>\n",
       "  <tbody>\n",
       "    <tr>\n",
       "      <th>2356</th>\n",
       "      <td>2017-07-01</td>\n",
       "      <td>GASSOC</td>\n",
       "      <td>272910.00</td>\n",
       "      <td>759.0</td>\n",
       "      <td>41187.72</td>\n",
       "      <td>6420.04</td>\n",
       "      <td>42340.0</td>\n",
       "      <td>790.0</td>\n",
       "      <td>359.565217</td>\n",
       "      <td>1.792631</td>\n",
       "      <td>0.073217</td>\n",
       "      <td>31.0</td>\n",
       "      <td>728.0</td>\n",
       "      <td>222.0</td>\n",
       "      <td>211.321071</td>\n",
       "      <td>96.551724</td>\n",
       "      <td>72.413793</td>\n",
       "      <td>28.0</td>\n",
       "      <td>4003.38</td>\n",
       "      <td>116.0</td>\n",
       "      <td>0.0</td>\n",
       "      <td>84.0</td>\n",
       "      <td>23667.96</td>\n",
       "      <td>112.0</td>\n",
       "      <td>0.0</td>\n",
       "      <td>0.0</td>\n",
       "      <td>0.0</td>\n",
       "      <td>0.0</td>\n",
       "      <td>0.0</td>\n",
       "      <td>0.0</td>\n",
       "      <td>0.0</td>\n",
       "      <td>0.0</td>\n",
       "      <td>0.000000</td>\n",
       "      <td>0.0</td>\n",
       "      <td>0.0</td>\n",
       "    </tr>\n",
       "    <tr>\n",
       "      <th>2357</th>\n",
       "      <td>2017-07-01</td>\n",
       "      <td>GCOR</td>\n",
       "      <td>1530162.34</td>\n",
       "      <td>4777.0</td>\n",
       "      <td>620649.64</td>\n",
       "      <td>130252.92</td>\n",
       "      <td>42340.0</td>\n",
       "      <td>5079.0</td>\n",
       "      <td>320.318681</td>\n",
       "      <td>11.282475</td>\n",
       "      <td>0.727444</td>\n",
       "      <td>308.0</td>\n",
       "      <td>4469.0</td>\n",
       "      <td>222.0</td>\n",
       "      <td>211.321071</td>\n",
       "      <td>96.551724</td>\n",
       "      <td>72.413793</td>\n",
       "      <td>28.0</td>\n",
       "      <td>4003.38</td>\n",
       "      <td>116.0</td>\n",
       "      <td>0.0</td>\n",
       "      <td>84.0</td>\n",
       "      <td>23667.96</td>\n",
       "      <td>112.0</td>\n",
       "      <td>0.0</td>\n",
       "      <td>0.0</td>\n",
       "      <td>0.0</td>\n",
       "      <td>0.0</td>\n",
       "      <td>0.0</td>\n",
       "      <td>0.0</td>\n",
       "      <td>0.0</td>\n",
       "      <td>0.0</td>\n",
       "      <td>0.000000</td>\n",
       "      <td>0.0</td>\n",
       "      <td>0.0</td>\n",
       "    </tr>\n",
       "    <tr>\n",
       "      <th>2358</th>\n",
       "      <td>2017-07-01</td>\n",
       "      <td>GSMERF</td>\n",
       "      <td>45759.10</td>\n",
       "      <td>170.0</td>\n",
       "      <td>0.00</td>\n",
       "      <td>5278.07</td>\n",
       "      <td>42340.0</td>\n",
       "      <td>202.0</td>\n",
       "      <td>269.171176</td>\n",
       "      <td>0.401512</td>\n",
       "      <td>0.073217</td>\n",
       "      <td>31.0</td>\n",
       "      <td>139.0</td>\n",
       "      <td>222.0</td>\n",
       "      <td>211.321071</td>\n",
       "      <td>96.551724</td>\n",
       "      <td>72.413793</td>\n",
       "      <td>28.0</td>\n",
       "      <td>4003.38</td>\n",
       "      <td>116.0</td>\n",
       "      <td>0.0</td>\n",
       "      <td>84.0</td>\n",
       "      <td>23667.96</td>\n",
       "      <td>112.0</td>\n",
       "      <td>0.0</td>\n",
       "      <td>0.0</td>\n",
       "      <td>0.0</td>\n",
       "      <td>0.0</td>\n",
       "      <td>0.0</td>\n",
       "      <td>0.0</td>\n",
       "      <td>0.0</td>\n",
       "      <td>0.0</td>\n",
       "      <td>0.000000</td>\n",
       "      <td>0.0</td>\n",
       "      <td>0.0</td>\n",
       "    </tr>\n",
       "    <tr>\n",
       "      <th>2359</th>\n",
       "      <td>2017-07-01</td>\n",
       "      <td>GWHOL</td>\n",
       "      <td>10619.00</td>\n",
       "      <td>41.0</td>\n",
       "      <td>0.00</td>\n",
       "      <td>1554.00</td>\n",
       "      <td>42340.0</td>\n",
       "      <td>41.0</td>\n",
       "      <td>259.000000</td>\n",
       "      <td>0.096835</td>\n",
       "      <td>0.000000</td>\n",
       "      <td>0.0</td>\n",
       "      <td>41.0</td>\n",
       "      <td>222.0</td>\n",
       "      <td>211.321071</td>\n",
       "      <td>96.551724</td>\n",
       "      <td>72.413793</td>\n",
       "      <td>28.0</td>\n",
       "      <td>4003.38</td>\n",
       "      <td>116.0</td>\n",
       "      <td>0.0</td>\n",
       "      <td>84.0</td>\n",
       "      <td>23667.96</td>\n",
       "      <td>112.0</td>\n",
       "      <td>0.0</td>\n",
       "      <td>0.0</td>\n",
       "      <td>0.0</td>\n",
       "      <td>0.0</td>\n",
       "      <td>0.0</td>\n",
       "      <td>0.0</td>\n",
       "      <td>0.0</td>\n",
       "      <td>0.0</td>\n",
       "      <td>0.000000</td>\n",
       "      <td>0.0</td>\n",
       "      <td>0.0</td>\n",
       "    </tr>\n",
       "    <tr>\n",
       "      <th>2361</th>\n",
       "      <td>2017-07-01</td>\n",
       "      <td>NEG</td>\n",
       "      <td>3133010.95</td>\n",
       "      <td>10003.0</td>\n",
       "      <td>17011.86</td>\n",
       "      <td>100826.38</td>\n",
       "      <td>42340.0</td>\n",
       "      <td>10358.0</td>\n",
       "      <td>313.207133</td>\n",
       "      <td>23.625413</td>\n",
       "      <td>0.772319</td>\n",
       "      <td>327.0</td>\n",
       "      <td>9676.0</td>\n",
       "      <td>222.0</td>\n",
       "      <td>211.321071</td>\n",
       "      <td>96.551724</td>\n",
       "      <td>72.413793</td>\n",
       "      <td>28.0</td>\n",
       "      <td>4003.38</td>\n",
       "      <td>116.0</td>\n",
       "      <td>0.0</td>\n",
       "      <td>84.0</td>\n",
       "      <td>23667.96</td>\n",
       "      <td>112.0</td>\n",
       "      <td>6.0</td>\n",
       "      <td>6.0</td>\n",
       "      <td>6.0</td>\n",
       "      <td>0.0</td>\n",
       "      <td>1330.2</td>\n",
       "      <td>0.0</td>\n",
       "      <td>186.0</td>\n",
       "      <td>1516.2</td>\n",
       "      <td>5.172414</td>\n",
       "      <td>221.7</td>\n",
       "      <td>0.0</td>\n",
       "    </tr>\n",
       "  </tbody>\n",
       "</table>\n",
       "</div>"
      ],
      "text/plain": [
       "     business_date market_code   s_rev_mkt  s_def_rooms_mkt  s_fb_rev_mkt  \\\n",
       "2356    2017-07-01      GASSOC   272910.00            759.0      41187.72   \n",
       "2357    2017-07-01        GCOR  1530162.34           4777.0     620649.64   \n",
       "2358    2017-07-01      GSMERF    45759.10            170.0          0.00   \n",
       "2359    2017-07-01       GWHOL    10619.00             41.0          0.00   \n",
       "2361    2017-07-01         NEG  3133010.95          10003.0      17011.86   \n",
       "\n",
       "      s_misc_rev_mkt  mkt_resort_room  guest_mkt  tot_arr_mkt  per_occ_mkt  \\\n",
       "2356         6420.04          42340.0      790.0   359.565217     1.792631   \n",
       "2357       130252.92          42340.0     5079.0   320.318681    11.282475   \n",
       "2358         5278.07          42340.0      202.0   269.171176     0.401512   \n",
       "2359         1554.00          42340.0       41.0   259.000000     0.096835   \n",
       "2361       100826.38          42340.0    10358.0   313.207133    23.625413   \n",
       "\n",
       "      per_double_mkt  double_occ_mkt  single_occ_mkt  guest_day  tot_arr_day  \\\n",
       "2356        0.073217            31.0           728.0      222.0   211.321071   \n",
       "2357        0.727444           308.0          4469.0      222.0   211.321071   \n",
       "2358        0.073217            31.0           139.0      222.0   211.321071   \n",
       "2359        0.000000             0.0            41.0      222.0   211.321071   \n",
       "2361        0.772319           327.0          9676.0      222.0   211.321071   \n",
       "\n",
       "      per_occ_day  per_double_occ_day  single_occ_day  s_misc_rev_day  \\\n",
       "2356    96.551724           72.413793            28.0         4003.38   \n",
       "2357    96.551724           72.413793            28.0         4003.38   \n",
       "2358    96.551724           72.413793            28.0         4003.38   \n",
       "2359    96.551724           72.413793            28.0         4003.38   \n",
       "2361    96.551724           72.413793            28.0         4003.38   \n",
       "\n",
       "      day_resort_room  s_fb_rev_day  double_occ_day  s_rev_day  \\\n",
       "2356            116.0           0.0            84.0   23667.96   \n",
       "2357            116.0           0.0            84.0   23667.96   \n",
       "2358            116.0           0.0            84.0   23667.96   \n",
       "2359            116.0           0.0            84.0   23667.96   \n",
       "2361            116.0           0.0            84.0   23667.96   \n",
       "\n",
       "      s_def_rooms_day  no_definite_rooms  in_guest  occ_single  double_occ  \\\n",
       "2356            112.0                0.0       0.0         0.0         0.0   \n",
       "2357            112.0                0.0       0.0         0.0         0.0   \n",
       "2358            112.0                0.0       0.0         0.0         0.0   \n",
       "2359            112.0                0.0       0.0         0.0         0.0   \n",
       "2361            112.0                6.0       6.0         6.0         0.0   \n",
       "\n",
       "      revenue  fb_rev  other_rev  total_revenue   per_occ  get_arr  \\\n",
       "2356      0.0     0.0        0.0            0.0  0.000000      0.0   \n",
       "2357      0.0     0.0        0.0            0.0  0.000000      0.0   \n",
       "2358      0.0     0.0        0.0            0.0  0.000000      0.0   \n",
       "2359      0.0     0.0        0.0            0.0  0.000000      0.0   \n",
       "2361   1330.2     0.0      186.0         1516.2  5.172414    221.7   \n",
       "\n",
       "      multi_occ_per  \n",
       "2356            0.0  \n",
       "2357            0.0  \n",
       "2358            0.0  \n",
       "2359            0.0  \n",
       "2361            0.0  "
      ]
     },
     "execution_count": 26,
     "metadata": {
      "tags": []
     },
     "output_type": "execute_result"
    }
   ],
   "source": [
    "df = df[~(df['business_date'] < '2017-07-01')]"
   ]
  },
  {
   "cell_type": "code",
   "execution_count": null,
   "id": "gMrFWjtSUfW8",
   "metadata": {
    "id": "gMrFWjtSUfW8"
   },
   "outputs": [],
   "source": [
    "df.to_csv('../content/drive/My Drive/Capstone/data/cleaned_data.csv')"
   ]
  }
 ],
 "metadata": {
  "colab": {
   "collapsed_sections": [],
   "name": "1. Data Cleaning.ipynb",
   "provenance": []
  },
  "kernelspec": {
   "display_name": "Python 3",
   "language": "python",
   "name": "python3"
  },
  "language_info": {
   "codemirror_mode": {
    "name": "ipython",
    "version": 3
   },
   "file_extension": ".py",
   "mimetype": "text/x-python",
   "name": "python",
   "nbconvert_exporter": "python",
   "pygments_lexer": "ipython3",
   "version": "3.8.5"
  }
 },
 "nbformat": 4,
 "nbformat_minor": 5
}
